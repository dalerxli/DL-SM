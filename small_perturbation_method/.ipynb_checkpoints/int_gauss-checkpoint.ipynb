{
 "cells": [
  {
   "cell_type": "code",
   "execution_count": 0,
   "metadata": {
    "colab": {},
    "colab_type": "code",
    "id": "ceCYYZyvPoIc"
   },
   "outputs": [],
   "source": []
  },
  {
   "cell_type": "code",
   "execution_count": 0,
   "metadata": {
    "colab": {},
    "colab_type": "code",
    "id": "IpRi1qwaPsX1"
   },
   "outputs": [],
   "source": [
    "### RUTINA DE INTEGRACION GAUSSIANA ###\n",
    "\n",
    "# \\int^{k_lim}_{-k_lim} dy \\int^{k_lim}_{-k_lim} dx f(x,y) =\n",
    "      # = k_lim**2 \\Sum^n_{j=1} \\Sum^n_{k=1} W_{jk} f(x_j,y_k)  \n",
    "\n",
    "## Entrada: \n",
    "          # n = nro de nodos para pesos W_jk y puntos de muestra en f(x,y)\n",
    "          # k_lim = limite de las integrales\n",
    "\n",
    "  \n",
    "## Salida:\n",
    "          # W_jk : pesos para la integración\n",
    "          # [X_IG,Y_IG] = mesh para evaluar a la función f(x,y)\n",
    "          # m_gauss = parámetro para reformatear la salida y sumar\n",
    "\n",
    "##------------Integracion gaussiana---------------##\n",
    "import numpy as np\n",
    "\n",
    "def int_gauss(n,k_lim):\n",
    "\n",
    "  beta = np.zeros(n,dtype=float)\n",
    "\n",
    "  for k in range(1,n+1):\n",
    "    beta[k-1] = 0.5/np.sqrt(1-(2*(k))**(-2))\n",
    "\n",
    "  m = n+1\n",
    "  T_low = np.zeros((m,m))\n",
    "  T_up = np.zeros((m,m))\n",
    "  T = np.zeros((m,m))\n",
    "\n",
    "  # defino T_low\n",
    "  for i in range(0,m):\n",
    "      for j in range(0,m):\n",
    "          if i==j+1:\n",
    "              T_low[i,j]=beta[i-1]\n",
    "  # defino T_up\n",
    "  for i in range(0,m):\n",
    "      for j in range(0,m):\n",
    "          if j==i+1:\n",
    "              T_up[i,j]=beta[i]\n",
    "\n",
    "  T = T_low + T_up        \n",
    "  d_,V = np.linalg.eig(T)\n",
    "  D = np.zeros((m,m))\n",
    "\n",
    "  for i in range(0,m):\n",
    "      for j in range(0,m):\n",
    "          if i==j:\n",
    "              D[i,j]= k_lim*d_[i]\n",
    "          \n",
    "  W = (2*V[0,:]**2)\n",
    "  Wt = np.kron(W,W)\n",
    "\n",
    "  r = k_lim*d_\n",
    "  X_IG,Y_IG = np.meshgrid(r,r)\n",
    "\n",
    "  return {'Wt': Wt, 'X_IG': X_IG, 'Y_IG': Y_IG, 'm_gauss': m}"
   ]
  }
 ],
 "metadata": {
  "colab": {
   "authorship_tag": "ABX9TyNbsafvHLnPLIEreFFASn5+",
   "collapsed_sections": [],
   "name": "int_gauss.ipynb",
   "provenance": []
  },
  "kernelspec": {
   "display_name": "Python 3",
   "language": "python",
   "name": "python3"
  },
  "language_info": {
   "codemirror_mode": {
    "name": "ipython",
    "version": 3
   },
   "file_extension": ".py",
   "mimetype": "text/x-python",
   "name": "python",
   "nbconvert_exporter": "python",
   "pygments_lexer": "ipython3",
   "version": "3.8.8"
  }
 },
 "nbformat": 4,
 "nbformat_minor": 1
}
